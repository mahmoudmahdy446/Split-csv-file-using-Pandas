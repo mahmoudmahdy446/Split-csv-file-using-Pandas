{
 "cells": [
  {
   "cell_type": "code",
   "execution_count": null,
   "id": "5292ae89-33ca-402c-aee8-424386f0ddc1",
   "metadata": {},
   "outputs": [],
   "source": [
    "import pandas as pd\n",
    "import os\n",
    "\n",
    "# Get the username\n",
    "user = \"write your user\"\n",
    "\n",
    "# Specify the file path with the correct backslash\n",
    "file_path = os.path.join('C:\\\\', 'Users', user, 'Desktop', 'excel file name')\n",
    "\n",
    "# Loading the Excel file with the correct encoding to preserve the Arabic characters\n",
    "df = pd.read_excel(file_path, encoding='utf-16')\n",
    "\n",
    "# Renaming the column to match Google Contacts CSV format\n",
    "df.rename(columns={'column 1 name': 'Given Name', 'Phone Number column name': 'Phone 1 - Value'}, inplace=True)\n",
    "\n",
    "# Splitting the data into smaller DataFrames, 500 record per file\n",
    "split_dataframes = [df[i:i + 500] for i in range(0, len(df), 500)]\n",
    "\n",
    "# Processing each smaller DataFrame\n",
    "for i, split_df in enumerate(split_dataframes):\n",
    "    label = f'{(i // 2) + 1} ::: * myContacts'  # Updated labeling to divide by 2\n",
    "    # Save to CSV with 'utf-16' encoding to preserve Arabic characters\n",
    "    split_df.to_csv(f'split_part_{i+1}.csv', index=False, encoding='utf-16', columns=['Given Name', 'Phone 1 - Value'])\n"
   ]
  }
 ],
 "metadata": {
  "kernelspec": {
   "display_name": "Python 3 (ipykernel)",
   "language": "python",
   "name": "python3"
  },
  "language_info": {
   "codemirror_mode": {
    "name": "ipython",
    "version": 3
   },
   "file_extension": ".py",
   "mimetype": "text/x-python",
   "name": "python",
   "nbconvert_exporter": "python",
   "pygments_lexer": "ipython3",
   "version": "3.11.1"
  }
 },
 "nbformat": 4,
 "nbformat_minor": 5
}
